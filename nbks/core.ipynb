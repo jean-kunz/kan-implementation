{
 "cells": [
  {
   "cell_type": "code",
   "execution_count": 1,
   "metadata": {},
   "outputs": [],
   "source": [
    "# | default_exp core\n",
    "%load_ext autoreload\n",
    "%autoreload 2\n"
   ]
  },
  {
   "cell_type": "code",
   "execution_count": 86,
   "metadata": {},
   "outputs": [],
   "source": [
    "#| export\n",
    "import torch\n",
    "import torch.nn as nn\n",
    "from torch.utils.data import TensorDataset, DataLoader\n"
   ]
  },
  {
   "cell_type": "code",
   "execution_count": 76,
   "metadata": {},
   "outputs": [
    {
     "data": {
      "text/plain": [
       "device(type='mps')"
      ]
     },
     "execution_count": 76,
     "metadata": {},
     "output_type": "execute_result"
    }
   ],
   "source": [
    "if torch.backends.mps.is_available():\n",
    "    device = torch.device('mps')\n",
    "else:\n",
    "    device = torch.device('cpu')    \n",
    "device"
   ]
  },
  {
   "cell_type": "markdown",
   "metadata": {},
   "source": [
    "## Create a small dataset "
   ]
  },
  {
   "cell_type": "code",
   "execution_count": 77,
   "metadata": {},
   "outputs": [],
   "source": [
    "\n",
    "torch.manual_seed(42)\n",
    "def gen_tensor(shape:tuple[int,int], min:int, max:int)->torch.tensor:\n",
    "    return torch.rand(shape,dtype=torch.float) * 20000 - 10000\n",
    "\n",
    "train_x = gen_tensor((100,2), min=-100000, max=100000).to(device)\n",
    "test_x = gen_tensor((50,2), min=-100000, max=100000).to(device)"
   ]
  },
  {
   "cell_type": "code",
   "execution_count": 78,
   "metadata": {},
   "outputs": [
    {
     "data": {
      "text/plain": [
       "(tensor([ 63457304.0000, -21520534.0000,  -4421306.5000, -28592150.0000,\n",
       "         -64672472.0000,  16267811.0000,  10005729.0000,  -6808062.5000,\n",
       "          11394376.0000, -11899671.0000,   5403189.5000, -26943362.0000,\n",
       "          36390784.0000,  16978416.0000,  -9322022.0000, -76716240.0000,\n",
       "          12848013.0000, -20065118.0000,  12592171.0000,  -3447651.2500,\n",
       "          -7286149.5000,  37575088.0000, -25271176.0000,  10328781.0000,\n",
       "         -30952804.0000,  38246160.0000, -62937208.0000,  11930649.0000,\n",
       "           -550167.7500, -55605376.0000,  -4297530.5000, -10619095.0000,\n",
       "          -6383922.0000, -49158208.0000,  35571204.0000,  29974028.0000,\n",
       "         -79412272.0000,  77600800.0000, -27246606.0000,  29753398.0000,\n",
       "          35205328.0000, -21446206.0000, -14402341.0000, -44446132.0000,\n",
       "         -15385583.0000,  -5390019.5000,  40521348.0000,  38714700.0000,\n",
       "         -30897410.0000,  34302816.0000, -14305514.0000,   9581199.0000,\n",
       "          -1602286.5000,  46718036.0000,  55728088.0000,  18880112.0000,\n",
       "         -28741568.0000,  21861098.0000, -13759425.0000,  25795014.0000,\n",
       "           -103120.5625,   4695689.0000,  40044416.0000,  27016880.0000,\n",
       "         -16640611.0000,  26808422.0000, -58601328.0000,  10547019.0000,\n",
       "          82522344.0000,  -6249911.0000, -31950328.0000, -54498284.0000,\n",
       "          -3606623.2500,  41677540.0000, -72231976.0000, -10824862.0000,\n",
       "           8202311.0000, -66852512.0000,  18782732.0000, -17568620.0000,\n",
       "          19974246.0000, -11336465.0000,  -6297692.0000, -39350424.0000,\n",
       "         -12335233.0000,   2417105.0000, -14268021.0000,  19538930.0000,\n",
       "         -26643118.0000, -72871272.0000,  11997880.0000,  -6457587.0000,\n",
       "          27428750.0000,  -6570701.5000,  -2832869.2500,   5264311.0000,\n",
       "          54933412.0000,   2216520.0000,    -87127.9141,   6737133.0000],\n",
       "        device='mps:0'),)"
      ]
     },
     "execution_count": 78,
     "metadata": {},
     "output_type": "execute_result"
    }
   ],
   "source": [
    "train_x[:,0]* train_x[:,1],"
   ]
  },
  {
   "cell_type": "code",
   "execution_count": 79,
   "metadata": {},
   "outputs": [],
   "source": [
    "def mul_func(x:torch.tensor)-> torch.tensor:\n",
    "    return x[:,0]*x[:,1]\n",
    "train_y = mul_func(train_x).to(device)\n",
    "test_y = mul_func(test_x).to(device)"
   ]
  },
  {
   "cell_type": "code",
   "execution_count": 85,
   "metadata": {},
   "outputs": [],
   "source": [
    "train_ds = TensorDataset(train_x, train_y)\n",
    "train_dl = DataLoader(train_ds, batch_size=10, shuffle=True)\n",
    "\n",
    "test_ds = TensorDataset(test_x, test_y)\n",
    "test_dl = DataLoader(test_ds, batch_size=10, shuffle=True)"
   ]
  },
  {
   "cell_type": "code",
   "execution_count": 88,
   "metadata": {},
   "outputs": [
    {
     "data": {
      "text/plain": [
       "[tensor([[-3247.0454,  6179.5000],\n",
       "         [-2823.7476, -6012.7246],\n",
       "         [ -692.9580, -6776.2969],\n",
       "         [ 3739.2725, -1757.2139],\n",
       "         [ 5780.5957, -4371.7251],\n",
       "         [-8300.7051, -9941.6064],\n",
       "         [ 8293.9180, -5927.0190],\n",
       "         [ 5162.5176,  8073.1035],\n",
       "         [ 3081.5967, -9326.8428],\n",
       "         [ 9031.0898, -8494.6826]], device='mps:0'),\n",
       " tensor([-20065118.0000,  16978416.0000,   4695689.0000,  -6570701.5000,\n",
       "         -25271176.0000,  82522344.0000, -49158208.0000,  41677540.0000,\n",
       "         -28741568.0000, -76716240.0000], device='mps:0')]"
      ]
     },
     "execution_count": 88,
     "metadata": {},
     "output_type": "execute_result"
    }
   ],
   "source": [
    "next(iter(train_dl))"
   ]
  },
  {
   "cell_type": "markdown",
   "metadata": {},
   "source": [
    "## KAN network"
   ]
  },
  {
   "cell_type": "code",
   "execution_count": 90,
   "metadata": {},
   "outputs": [],
   "source": [
    "class KAN(nn.Module):\n",
    "    \n",
    "    def __init__(self, width:list[int]) -> None:\n",
    "        super().__init__()\n",
    "        self.width = width\n",
    "        self.func = None\n",
    "        \n",
    "    def forward(self, x:torch.tensor)->torch.tensor:\n",
    "        '''_summary_\n",
    "\n",
    "        Arguments:\n",
    "            x -- tensor of dim (batch, input_dim)\n",
    "\n",
    "        Returns:\n",
    "            y -- tensor of dim (batch, output_dim)\n",
    "        '''\n",
    "        ...    \n",
    "\n",
    "x,y = next(iter(train_dl))\n",
    "model = KAN(width=[2,3,1])\n",
    "model(x)"
   ]
  },
  {
   "cell_type": "code",
   "execution_count": 3,
   "metadata": {},
   "outputs": [],
   "source": [
    "from nbdev.export import nb_export; nb_export(\"core.ipynb\")"
   ]
  },
  {
   "cell_type": "code",
   "execution_count": null,
   "metadata": {},
   "outputs": [],
   "source": []
  }
 ],
 "metadata": {
  "kernelspec": {
   "display_name": "kan-implementation-J99bFdAZ-py3.12",
   "language": "python",
   "name": "python3"
  },
  "language_info": {
   "codemirror_mode": {
    "name": "ipython",
    "version": 3
   },
   "file_extension": ".py",
   "mimetype": "text/x-python",
   "name": "python",
   "nbconvert_exporter": "python",
   "pygments_lexer": "ipython3",
   "version": "3.12.2"
  }
 },
 "nbformat": 4,
 "nbformat_minor": 2
}
